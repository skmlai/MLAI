{
 "cells": [
  {
   "cell_type": "code",
   "execution_count": 1,
   "id": "17fecb11-a6a4-490b-9c2c-0bad655960bc",
   "metadata": {},
   "outputs": [],
   "source": [
    "import cv2\n",
    "import numpy as np\n",
    "import matplotlib.pyplot as plt"
   ]
  },
  {
   "cell_type": "code",
   "execution_count": 5,
   "id": "a074d953-dc8a-49d9-baa0-0b3904963f4e",
   "metadata": {},
   "outputs": [],
   "source": [
    "image = cv2.imread('images/lenna.png')\n",
    "# store height and weidth of the image\n",
    "height, width = image.shape[:2]\n",
    "quarter_height, quarter_width = height/4, width/4\n",
    "T = np.float32([[1,0,quarter_width],[0,1,quarter_height]])\n",
    "img_translation = cv2.warpAffine(image,T,(width,height))"
   ]
  },
  {
   "cell_type": "code",
   "execution_count": 6,
   "id": "66f3be07-89b1-4882-80fe-bb192d3dbc70",
   "metadata": {},
   "outputs": [
    {
     "data": {
      "text/plain": [
       "array([[  1.,   0., 128.],\n",
       "       [  0.,   1., 128.]], dtype=float32)"
      ]
     },
     "execution_count": 6,
     "metadata": {},
     "output_type": "execute_result"
    }
   ],
   "source": [
    "T"
   ]
  },
  {
   "cell_type": "code",
   "execution_count": 7,
   "id": "8c9bd92a-6099-4ad2-a4f4-3ac7c246a8ed",
   "metadata": {},
   "outputs": [],
   "source": [
    "cv2.imshow('Original Image',image)\n",
    "cv2.imshow('Translation Image',img_translation)\n",
    "cv2.waitKey(0)\n",
    "cv2.destroyAllWindows()"
   ]
  },
  {
   "cell_type": "markdown",
   "id": "6a81a4c2-efd0-4fc2-8ca9-d11a508b0c1c",
   "metadata": {},
   "source": [
    "# Negative Translation"
   ]
  },
  {
   "cell_type": "code",
   "execution_count": 12,
   "id": "e60f908f-ad3d-4117-891b-21e391df6c2a",
   "metadata": {},
   "outputs": [],
   "source": [
    "T = np.float32([[1,0,-200],[0,1,300]])\n",
    "img_translation = cv2.warpAffine(image,T,(width,height))\n",
    "cv2.imshow('Original Image',image)\n",
    "cv2.imshow('Translation Image',img_translation)\n",
    "cv2.waitKey(0)\n",
    "cv2.destroyAllWindows()"
   ]
  },
  {
   "cell_type": "code",
   "execution_count": 13,
   "id": "46b1ce7b-001b-4f5b-afae-72fb69ffb643",
   "metadata": {},
   "outputs": [],
   "source": [
    "img_translation = cv2.warpAffine(image,T,(200,200))\n",
    "cv2.imshow('Original Image',image)\n",
    "cv2.imshow('Translation Image',img_translation)\n",
    "cv2.waitKey(0)\n",
    "cv2.destroyAllWindows()"
   ]
  },
  {
   "cell_type": "markdown",
   "id": "5e0db63a-29bd-4310-928d-83883d1a9561",
   "metadata": {},
   "source": [
    "# Image Rotation"
   ]
  },
  {
   "cell_type": "code",
   "execution_count": null,
   "id": "20d66480-1609-47ad-b1d7-886d1f38599b",
   "metadata": {},
   "outputs": [],
   "source": []
  }
 ],
 "metadata": {
  "kernelspec": {
   "display_name": "Python 3 (ipykernel)",
   "language": "python",
   "name": "python3"
  },
  "language_info": {
   "codemirror_mode": {
    "name": "ipython",
    "version": 3
   },
   "file_extension": ".py",
   "mimetype": "text/x-python",
   "name": "python",
   "nbconvert_exporter": "python",
   "pygments_lexer": "ipython3",
   "version": "3.11.7"
  }
 },
 "nbformat": 4,
 "nbformat_minor": 5
}
