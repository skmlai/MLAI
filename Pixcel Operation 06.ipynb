{
 "cells": [
  {
   "cell_type": "code",
   "execution_count": 29,
   "id": "4b71a1cf-bb00-4850-8847-b1073c6f0c69",
   "metadata": {},
   "outputs": [],
   "source": [
    "import cv2"
   ]
  },
  {
   "cell_type": "code",
   "execution_count": 16,
   "id": "ea3c5cdf-120d-46f8-8582-d8f2d250f716",
   "metadata": {},
   "outputs": [],
   "source": [
    "import matplotlib as plt"
   ]
  },
  {
   "cell_type": "code",
   "execution_count": 25,
   "id": "107b7ef7-1227-4f36-94da-202bbdef6611",
   "metadata": {},
   "outputs": [],
   "source": [
    "import os"
   ]
  },
  {
   "cell_type": "code",
   "execution_count": 27,
   "id": "57f43dbb-1593-4ffa-b57d-134d256b43dc",
   "metadata": {},
   "outputs": [
    {
     "data": {
      "text/plain": [
       "'C:\\\\Users\\\\rajesh'"
      ]
     },
     "execution_count": 27,
     "metadata": {},
     "output_type": "execute_result"
    }
   ],
   "source": [
    "os.getcwd()"
   ]
  },
  {
   "cell_type": "code",
   "execution_count": 30,
   "id": "9042c2c1-b3ab-4767-b223-05dfca6392d5",
   "metadata": {},
   "outputs": [],
   "source": [
    "img=cv2.imread('images/lenna.jpg')"
   ]
  },
  {
   "cell_type": "code",
   "execution_count": 31,
   "id": "9f6b2134-6b29-4118-8d8c-20ea956f627a",
   "metadata": {},
   "outputs": [],
   "source": [
    "img=cv2.imread('images/lenna.png')"
   ]
  },
  {
   "cell_type": "code",
   "execution_count": 32,
   "id": "e3957ed2-a76c-40bd-b126-2a19e18fb995",
   "metadata": {},
   "outputs": [
    {
     "data": {
      "text/plain": [
       "(512, 512, 3)"
      ]
     },
     "execution_count": 32,
     "metadata": {},
     "output_type": "execute_result"
    }
   ],
   "source": [
    "img.shape"
   ]
  },
  {
   "cell_type": "code",
   "execution_count": 11,
   "id": "21c32ace-5429-4bb4-b13d-92f44338ef4e",
   "metadata": {},
   "outputs": [],
   "source": [
    "pix=img[360,200]"
   ]
  },
  {
   "cell_type": "code",
   "execution_count": 12,
   "id": "3c42d60b-062d-424c-beea-8ea616f95aef",
   "metadata": {},
   "outputs": [
    {
     "data": {
      "text/plain": [
       "array([62, 23, 99], dtype=uint8)"
      ]
     },
     "execution_count": 12,
     "metadata": {},
     "output_type": "execute_result"
    }
   ],
   "source": [
    "pix"
   ]
  },
  {
   "cell_type": "code",
   "execution_count": 33,
   "id": "db2ee777-d8e1-4b79-855c-79c320ad47ba",
   "metadata": {},
   "outputs": [],
   "source": [
    "cv2.imshow('xcbfg',img)\n"
   ]
  },
  {
   "cell_type": "code",
   "execution_count": 37,
   "id": "7cbbfaa7-8128-46af-911d-e528c9be3f80",
   "metadata": {},
   "outputs": [],
   "source": [
    "cv2.imshow('Image',img)\n",
    "cv2.waitKey(0)\n",
    "cv2.destroyAllWindows()"
   ]
  },
  {
   "cell_type": "code",
   "execution_count": null,
   "id": "9f43a639-6e48-458e-997b-60f720d61d7e",
   "metadata": {},
   "outputs": [],
   "source": [
    "for i in range(512):\n",
    "    img[i,i]=0\n",
    "    img[i,i+1]=0\n",
    "    img[i,i+2]=0"
   ]
  },
  {
   "cell_type": "code",
   "execution_count": 79,
   "id": "5758fd66-713e-4e36-a0ee-fde49de77688",
   "metadata": {},
   "outputs": [],
   "source": [
    "row=0\n",
    "col=511\n"
   ]
  },
  {
   "cell_type": "code",
   "execution_count": 80,
   "id": "bebe7612-30d7-477b-b6cd-45fb56ddd0da",
   "metadata": {},
   "outputs": [],
   "source": [
    "for i in range(512):\n",
    "    img[row,col]=0\n",
    "    row=row+1\n",
    "    col=col-1\n",
    "cv2.imshow('Image',img)\n",
    "cv2.waitKey(0)\n",
    "cv2.destroyAllWindows()"
   ]
  },
  {
   "cell_type": "code",
   "execution_count": 56,
   "id": "57c6ee92-d034-4466-96c9-cf0a779c7b40",
   "metadata": {},
   "outputs": [],
   "source": [
    "row=0\n",
    "col=0"
   ]
  },
  {
   "cell_type": "code",
   "execution_count": 78,
   "id": "971acef6-f9e7-43a1-a1bb-94d07572dc15",
   "metadata": {},
   "outputs": [],
   "source": [
    "img=cv2.imread('images/lenna.png')\n"
   ]
  },
  {
   "cell_type": "code",
   "execution_count": 65,
   "id": "09311324-891d-48cd-895b-01e8ed3bb97d",
   "metadata": {},
   "outputs": [],
   "source": [
    "for i in range(100,300):\n",
    "    for j in range(100,300):\n",
    "        img[i,j]=0\n",
    "cv2.imshow('Image',img)\n",
    "cv2.waitKey(0)\n",
    "cv2.destroyAllWindows()"
   ]
  },
  {
   "cell_type": "code",
   "execution_count": null,
   "id": "c46694de-5185-4e3a-bc28-01b84022c8de",
   "metadata": {},
   "outputs": [],
   "source": [
    "# Alternate pixel Balck"
   ]
  },
  {
   "cell_type": "code",
   "execution_count": 74,
   "id": "759660de-3ed7-4883-b9d9-8ed28237ffad",
   "metadata": {},
   "outputs": [],
   "source": [
    "img=cv2.imread('images/lenna.png')"
   ]
  },
  {
   "cell_type": "code",
   "execution_count": 5,
   "id": "1325c6c8-0550-4dce-92df-193673b6d98b",
   "metadata": {},
   "outputs": [
    {
     "ename": "NameError",
     "evalue": "name 'img' is not defined",
     "output_type": "error",
     "traceback": [
      "\u001b[1;31m---------------------------------------------------------------------------\u001b[0m",
      "\u001b[1;31mNameError\u001b[0m                                 Traceback (most recent call last)",
      "Cell \u001b[1;32mIn[5], line 3\u001b[0m\n\u001b[0;32m      1\u001b[0m \u001b[38;5;28;01mfor\u001b[39;00m i \u001b[38;5;129;01min\u001b[39;00m \u001b[38;5;28mrange\u001b[39m(\u001b[38;5;241m0\u001b[39m,\u001b[38;5;241m512\u001b[39m,\u001b[38;5;241m2\u001b[39m):\n\u001b[0;32m      2\u001b[0m     \u001b[38;5;28;01mfor\u001b[39;00m j \u001b[38;5;129;01min\u001b[39;00m \u001b[38;5;28mrange\u001b[39m(\u001b[38;5;241m512\u001b[39m):\n\u001b[1;32m----> 3\u001b[0m         img[i,j]\u001b[38;5;241m=\u001b[39m\u001b[38;5;241m0\u001b[39m\n\u001b[0;32m      5\u001b[0m cv2\u001b[38;5;241m.\u001b[39mimshow(\u001b[38;5;124m'\u001b[39m\u001b[38;5;124mImage\u001b[39m\u001b[38;5;124m'\u001b[39m,img)\n\u001b[0;32m      6\u001b[0m cv2\u001b[38;5;241m.\u001b[39mwaitKey(\u001b[38;5;241m0\u001b[39m)\n",
      "\u001b[1;31mNameError\u001b[0m: name 'img' is not defined"
     ]
    }
   ],
   "source": [
    "for i in range(0,512,2):\n",
    "    for j in range(512):\n",
    "        img[i,j]=0\n",
    "             \n",
    "cv2.imshow('Image',img)\n",
    "cv2.waitKey(0)\n",
    "cv2.destroyAllWindows()"
   ]
  },
  {
   "cell_type": "markdown",
   "id": "16eefdbc-d1bf-4119-81e0-3db6ec85ef3b",
   "metadata": {},
   "source": [
    "# Video capture"
   ]
  },
  {
   "cell_type": "code",
   "execution_count": 1,
   "id": "3a684c29-1567-42cc-adf8-e2e89161290c",
   "metadata": {},
   "outputs": [],
   "source": [
    "import cv2"
   ]
  },
  {
   "cell_type": "code",
   "execution_count": 2,
   "id": "93d0e122-74de-482a-a2f9-b9d79e6266c1",
   "metadata": {},
   "outputs": [],
   "source": [
    "vid=cv2.VideoCapture('images/robots.mp4')"
   ]
  },
  {
   "cell_type": "code",
   "execution_count": 3,
   "id": "6748b663-3dac-4e51-b441-5dc81223a6c0",
   "metadata": {},
   "outputs": [],
   "source": [
    " ret, frame=vid.read()"
   ]
  },
  {
   "cell_type": "code",
   "execution_count": 4,
   "id": "5d6b0c90-caba-4389-8ae6-ddb16d4b5a26",
   "metadata": {},
   "outputs": [],
   "source": [
    "cv2.imshow('Frame',frame)"
   ]
  },
  {
   "cell_type": "code",
   "execution_count": 1,
   "id": "5f936dad-5682-4ffc-b94e-7b5a8fe7f085",
   "metadata": {},
   "outputs": [
    {
     "ename": "NameError",
     "evalue": "name 'cv2' is not defined",
     "output_type": "error",
     "traceback": [
      "\u001b[1;31m---------------------------------------------------------------------------\u001b[0m",
      "\u001b[1;31mNameError\u001b[0m                                 Traceback (most recent call last)",
      "Cell \u001b[1;32mIn[1], line 2\u001b[0m\n\u001b[0;32m      1\u001b[0m \u001b[38;5;66;03m#cap=cv2.VideoCapture(path)\u001b[39;00m\n\u001b[1;32m----> 2\u001b[0m vid\u001b[38;5;241m=\u001b[39mcv2\u001b[38;5;241m.\u001b[39mVideoCapture(\u001b[38;5;124m'\u001b[39m\u001b[38;5;124mimages/robots.mp4\u001b[39m\u001b[38;5;124m'\u001b[39m)\n\u001b[0;32m      3\u001b[0m \u001b[38;5;28;01mwhile\u001b[39;00m vid\u001b[38;5;241m.\u001b[39misOpened():\n\u001b[0;32m      4\u001b[0m     ret, frame\u001b[38;5;241m=\u001b[39mvid\u001b[38;5;241m.\u001b[39mread()\n",
      "\u001b[1;31mNameError\u001b[0m: name 'cv2' is not defined"
     ]
    }
   ],
   "source": [
    "#cap=cv2.VideoCapture(path)\n",
    "vid=cv2.VideoCapture('images/robots.mp4')\n",
    "while vid.isOpened():\n",
    "    ret, frame=vid.read()\n",
    "    if ret== True:\n",
    "        cv2.imshow('Frame',frame)\n",
    "        if cv2.waitKey(25) & 0xFF==ord('q'):\n",
    "            break\n",
    "    else:\n",
    "        break\n",
    "vid.release()\n",
    "cv2.destroyAllWindows()\n",
    "            "
   ]
  },
  {
   "cell_type": "code",
   "execution_count": 2,
   "id": "3814a364-b1a6-47af-94d0-3f718c618798",
   "metadata": {},
   "outputs": [
    {
     "ename": "NameError",
     "evalue": "name 'cv2' is not defined",
     "output_type": "error",
     "traceback": [
      "\u001b[1;31m---------------------------------------------------------------------------\u001b[0m",
      "\u001b[1;31mNameError\u001b[0m                                 Traceback (most recent call last)",
      "Cell \u001b[1;32mIn[2], line 1\u001b[0m\n\u001b[1;32m----> 1\u001b[0m vid\u001b[38;5;241m=\u001b[39mcv2\u001b[38;5;241m.\u001b[39mVideoCapture(\u001b[38;5;124m'\u001b[39m\u001b[38;5;124mimages/robots.mp4\u001b[39m\u001b[38;5;124m'\u001b[39m)\n\u001b[0;32m      2\u001b[0m \u001b[38;5;28;01mwhile\u001b[39;00m vid\u001b[38;5;241m.\u001b[39misOpened():\n\u001b[0;32m      3\u001b[0m     ret, frame\u001b[38;5;241m=\u001b[39mvid\u001b[38;5;241m.\u001b[39mread()\n",
      "\u001b[1;31mNameError\u001b[0m: name 'cv2' is not defined"
     ]
    }
   ],
   "source": [
    "vid=cv2.VideoCapture('images/robots.mp4')\n",
    "while vid.isOpened():\n",
    "    ret, frame=vid.read()\n",
    "    if ret== True:\n",
    "        cv2.imshow('Frame',frame)\n",
    "       ## if cv2.waitKey(25) & 0xFF==ord('q'):\n",
    "        ##    break\n",
    "    else:\n",
    "        break\n",
    "vid.release()\n",
    "cv2.destroyAllWindows()"
   ]
  },
  {
   "cell_type": "raw",
   "id": "bc396465-be17-4e7c-ad8f-d69ab3796a01",
   "metadata": {},
   "source": [
    "import cv2"
   ]
  },
  {
   "cell_type": "code",
   "execution_count": 1,
   "id": "7040bea4-437e-4deb-8d5e-d63f8116e247",
   "metadata": {},
   "outputs": [
    {
     "ename": "NameError",
     "evalue": "name 'cv2' is not defined",
     "output_type": "error",
     "traceback": [
      "\u001b[1;31m---------------------------------------------------------------------------\u001b[0m",
      "\u001b[1;31mNameError\u001b[0m                                 Traceback (most recent call last)",
      "Cell \u001b[1;32mIn[1], line 1\u001b[0m\n\u001b[1;32m----> 1\u001b[0m vid\u001b[38;5;241m=\u001b[39mcv2\u001b[38;5;241m.\u001b[39mVideoCapture(\u001b[38;5;124m'\u001b[39m\u001b[38;5;124mimages/robots.mp4\u001b[39m\u001b[38;5;124m'\u001b[39m)\n",
      "\u001b[1;31mNameError\u001b[0m: name 'cv2' is not defined"
     ]
    }
   ],
   "source": [
    "vid=cv2.VideoCapture('images/robots.mp4')"
   ]
  },
  {
   "cell_type": "code",
   "execution_count": null,
   "id": "5c4c100a-5064-4cab-8616-f729499a39df",
   "metadata": {},
   "outputs": [],
   "source": [
    "widht=int(vid.get(cv2."
   ]
  }
 ],
 "metadata": {
  "kernelspec": {
   "display_name": "Python 3 (ipykernel)",
   "language": "python",
   "name": "python3"
  },
  "language_info": {
   "codemirror_mode": {
    "name": "ipython",
    "version": 3
   },
   "file_extension": ".py",
   "mimetype": "text/x-python",
   "name": "python",
   "nbconvert_exporter": "python",
   "pygments_lexer": "ipython3",
   "version": "3.11.7"
  }
 },
 "nbformat": 4,
 "nbformat_minor": 5
}
