{
 "cells": [
  {
   "cell_type": "code",
   "execution_count": null,
   "id": "78a13d4d-2b2c-483a-9492-4f8d0bb895da",
   "metadata": {},
   "outputs": [],
   "source": [
    "\"\"\"Image to use : sachin.jpg\n",
    "Location: images folder on https://mitu.co.in/dataset\n",
    "# 1. Apply following transformations on the image.\n",
    "# 1. Translate the image towards right by 400 and up by 150 pixels.\n",
    "# 2. Rotate the image 60 degrees anti clockwise.\n",
    "# 3. Resize the image to 75% of original dimensions.\n",
    "# 4. Flip the image horizontally, diagonally and vertically. Show all four\n",
    "images in the row.\n",
    "# 5. Crop the image at, 500,300 to 560, 400 and save in another file"
   ]
  },
  {
   "cell_type": "code",
   "execution_count": null,
   "id": "7046188c-8542-4e7b-9c69-a96732110ce6",
   "metadata": {},
   "outputs": [],
   "source": [
    "# 1. Apply following transformations on the image.\n",
    "# 1. Translate the image towards right by 400 and up by 150 pixels."
   ]
  },
  {
   "cell_type": "code",
   "execution_count": 1,
   "id": "ed54d9d8-94c3-4a73-a388-ed45dfe9e8fe",
   "metadata": {},
   "outputs": [],
   "source": [
    "import cv2\n",
    "import matplotlib.pyplot as plt\n",
    "import numpy as np"
   ]
  },
  {
   "cell_type": "code",
   "execution_count": 6,
   "id": "d32026db-b327-4ddc-8a28-38338a0495ca",
   "metadata": {},
   "outputs": [],
   "source": [
    "image=cv2.imread('sachin.jpg',0)"
   ]
  },
  {
   "cell_type": "code",
   "execution_count": 17,
   "id": "691f22e6-8616-4957-8f3e-77e319e95691",
   "metadata": {},
   "outputs": [],
   "source": [
    "height, width = image.shape[:2] \n",
    "new_width=width-150\n",
    "new_height=height-400"
   ]
  },
  {
   "cell_type": "code",
   "execution_count": 19,
   "id": "eda390b5-742e-4754-963d-b8eeeb882b30",
   "metadata": {},
   "outputs": [],
   "source": [
    "T = np.float32([[1, 0, new_width], [0, 1, new_height]]) \n",
    "img_translation = cv2.warpAffine(image, T, (width, height)) \n",
    "  \n",
    "cv2.imshow(\"Originalimage\", image) \n",
    "cv2.imshow('Translation', img_translation) \n",
    "cv2.waitKey() \n",
    "  \n",
    "cv2.destroyAllWindows() "
   ]
  },
  {
   "cell_type": "code",
   "execution_count": null,
   "id": "1173e48b-6892-49c5-a3ea-7f58ea7350de",
   "metadata": {},
   "outputs": [],
   "source": [
    "# 2. Rotate the image 60 degrees anti clockwise"
   ]
  },
  {
   "cell_type": "code",
   "execution_count": 22,
   "id": "531229ca-d61e-4d0c-a597-ae39b36f97c0",
   "metadata": {},
   "outputs": [],
   "source": [
    "image1 = cv2.rotate(image, cv2.ROTATE_90_CLOCKWISE)\n",
    " \n",
    "# Displaying the image\n",
    "cv2.imshow('Image', image1)\n",
    "cv2.waitKey(0)\n",
    "cv2.destroyAllWindows() "
   ]
  },
  {
   "cell_type": "code",
   "execution_count": null,
   "id": "a86ca8ac-666f-4781-a3ef-f70e4bc15db2",
   "metadata": {},
   "outputs": [],
   "source": [
    "# 3. Resize the image to 75% of original dimensions.\n"
   ]
  },
  {
   "cell_type": "code",
   "execution_count": null,
   "id": "7003c275-d553-4efa-95d0-6e255dbbed6b",
   "metadata": {},
   "outputs": [],
   "source": [
    "resizeimage=cv2.resize(image,)"
   ]
  },
  {
   "cell_type": "code",
   "execution_count": null,
   "id": "d6ca9012-5c4b-4cc2-8d5b-fa041ca47034",
   "metadata": {},
   "outputs": [],
   "source": [
    "# 4. Flip the image horizontally, diagonally and vertically. Show all four\n",
    "images in the row.\n"
   ]
  },
  {
   "cell_type": "code",
   "execution_count": null,
   "id": "7b144075-237d-4246-845a-75176bc21a5f",
   "metadata": {},
   "outputs": [],
   "source": [
    "resize(src, dsize[, dst[, fx[, fy[, interpolation]]]]) -> dst\n",
    ".   @brief Resizes an image.\n",
    ".   \n",
    ".   The function resize resizes the image src down to or up to the specified size. Note that the\n",
    ".   initial dst type or size are not taken into account. Instead, the size and type are derived from\n",
    ".   the `src`,`dsize`,`fx`, and `fy`. If you want to resize src so that it fits the pre-created dst,\n",
    ".   you may call the function as follows:"
   ]
  },
  {
   "cell_type": "code",
   "execution_count": null,
   "id": "ebcc605d-d194-429a-a9a3-2253ebad2c83",
   "metadata": {},
   "outputs": [],
   "source": [
    "# 5. Crop the image at, 500,300 to 560, 400 and save in another file"
   ]
  },
  {
   "cell_type": "code",
   "execution_count": null,
   "id": "51c7b312-1e34-43c4-a788-5a68fe1b7457",
   "metadata": {},
   "outputs": [],
   "source": []
  },
  {
   "cell_type": "code",
   "execution_count": null,
   "id": "1a67ee51-d3ae-47d9-b4c7-059fa1e8e7d8",
   "metadata": {},
   "outputs": [],
   "source": []
  },
  {
   "cell_type": "code",
   "execution_count": null,
   "id": "d6e6c09c-17bd-47ee-b013-efc998fc5395",
   "metadata": {},
   "outputs": [],
   "source": []
  }
 ],
 "metadata": {
  "kernelspec": {
   "display_name": "Python 3 (ipykernel)",
   "language": "python",
   "name": "python3"
  },
  "language_info": {
   "codemirror_mode": {
    "name": "ipython",
    "version": 3
   },
   "file_extension": ".py",
   "mimetype": "text/x-python",
   "name": "python",
   "nbconvert_exporter": "python",
   "pygments_lexer": "ipython3",
   "version": "3.11.7"
  }
 },
 "nbformat": 4,
 "nbformat_minor": 5
}
