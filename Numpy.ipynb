{
 "cells": [
  {
   "cell_type": "code",
   "execution_count": 1,
   "id": "d27703d0-e8d8-4080-abf3-52e12562c5e6",
   "metadata": {},
   "outputs": [],
   "source": [
    "import numpy as np"
   ]
  },
  {
   "cell_type": "markdown",
   "id": "ab24f7ba-2cd8-48f5-b29c-e5d0a8d77e87",
   "metadata": {},
   "source": [
    "######## Create Array"
   ]
  },
  {
   "cell_type": "code",
   "execution_count": 4,
   "id": "9163be8f-e949-403c-9b3b-463b3e4a157b",
   "metadata": {},
   "outputs": [],
   "source": [
    "x=np.array([56,12,35,48,71,11,28])"
   ]
  },
  {
   "cell_type": "code",
   "execution_count": 7,
   "id": "3f76e718-bf60-41fe-92c3-e24c0574be72",
   "metadata": {},
   "outputs": [
    {
     "name": "stdout",
     "output_type": "stream",
     "text": [
      "[56 12 35 48 71 11 28]\n"
     ]
    }
   ],
   "source": [
    "print(x)"
   ]
  },
  {
   "cell_type": "code",
   "execution_count": 5,
   "id": "2edbd340-bb23-4f9b-94c0-884318b9be8c",
   "metadata": {},
   "outputs": [
    {
     "data": {
      "text/plain": [
       "numpy.ndarray"
      ]
     },
     "execution_count": 5,
     "metadata": {},
     "output_type": "execute_result"
    }
   ],
   "source": [
    "type(x)"
   ]
  },
  {
   "cell_type": "code",
   "execution_count": 6,
   "id": "44cacb53-3360-4297-aa77-c870f1808a0d",
   "metadata": {},
   "outputs": [
    {
     "name": "stdout",
     "output_type": "stream",
     "text": [
      "[56 12 35 48 71 11 28]\n"
     ]
    }
   ],
   "source": [
    "print(x)"
   ]
  },
  {
   "cell_type": "code",
   "execution_count": 8,
   "id": "93045b93-9141-4201-92d0-fdcb2bbf9b85",
   "metadata": {},
   "outputs": [
    {
     "data": {
      "text/plain": [
       "1"
      ]
     },
     "execution_count": 8,
     "metadata": {},
     "output_type": "execute_result"
    }
   ],
   "source": [
    "x.ndim"
   ]
  },
  {
   "cell_type": "code",
   "execution_count": 9,
   "id": "b93a05f1-f5d4-4388-a632-57587fdad729",
   "metadata": {},
   "outputs": [
    {
     "data": {
      "text/plain": [
       "array([56, 12, 35, 48, 71, 11, 28])"
      ]
     },
     "execution_count": 9,
     "metadata": {},
     "output_type": "execute_result"
    }
   ],
   "source": [
    "x"
   ]
  },
  {
   "cell_type": "code",
   "execution_count": 10,
   "id": "6457274a-5f1a-4d1f-82ff-8a03efba93d4",
   "metadata": {},
   "outputs": [
    {
     "data": {
      "text/plain": [
       "dtype('int32')"
      ]
     },
     "execution_count": 10,
     "metadata": {},
     "output_type": "execute_result"
    }
   ],
   "source": [
    "x.dtype"
   ]
  },
  {
   "cell_type": "code",
   "execution_count": 15,
   "id": "feb3bfc3-2003-427a-b9ae-6a38d57831f2",
   "metadata": {},
   "outputs": [],
   "source": [
    "x=np.array([56,12,35,48,71,11,28], dtype=np.int8)"
   ]
  },
  {
   "cell_type": "code",
   "execution_count": 16,
   "id": "c89c94e4-ed83-41b0-9349-e161e7c318e4",
   "metadata": {},
   "outputs": [],
   "source": [
    "x=np.array([56,12,35,48,71,11,28], dtype=np.uint8)"
   ]
  },
  {
   "cell_type": "code",
   "execution_count": 17,
   "id": "6150e219-8904-458b-934e-fd61f39b7061",
   "metadata": {},
   "outputs": [],
   "source": [
    "x[0]=45"
   ]
  },
  {
   "cell_type": "code",
   "execution_count": 19,
   "id": "9f8be829-6821-4ca8-8280-b25ad390b794",
   "metadata": {},
   "outputs": [],
   "source": [
    "x[0]=155"
   ]
  },
  {
   "cell_type": "code",
   "execution_count": 20,
   "id": "b40b8b3d-a3c0-4d09-8edc-2d14d227093d",
   "metadata": {},
   "outputs": [
    {
     "data": {
      "text/plain": [
       "array([155,  12,  35,  48,  71,  11,  28], dtype=uint8)"
      ]
     },
     "execution_count": 20,
     "metadata": {},
     "output_type": "execute_result"
    }
   ],
   "source": [
    "x"
   ]
  },
  {
   "cell_type": "code",
   "execution_count": 21,
   "id": "07aa51d1-6f90-46cf-816a-302115471f36",
   "metadata": {},
   "outputs": [
    {
     "data": {
      "text/plain": [
       "7"
      ]
     },
     "execution_count": 21,
     "metadata": {},
     "output_type": "execute_result"
    }
   ],
   "source": [
    "x.size"
   ]
  },
  {
   "cell_type": "code",
   "execution_count": 22,
   "id": "7917f984-e1c2-44a0-b1b3-9854622dd8cd",
   "metadata": {},
   "outputs": [
    {
     "data": {
      "text/plain": [
       "(7,)"
      ]
     },
     "execution_count": 22,
     "metadata": {},
     "output_type": "execute_result"
    }
   ],
   "source": [
    "x.shape"
   ]
  },
  {
   "cell_type": "code",
   "execution_count": 23,
   "id": "beffe79c-9306-47af-af12-9220540bf0b1",
   "metadata": {},
   "outputs": [],
   "source": [
    "x.sort()"
   ]
  },
  {
   "cell_type": "code",
   "execution_count": 24,
   "id": "4da96fe9-8ce9-4997-8ae9-715511f1732a",
   "metadata": {},
   "outputs": [
    {
     "data": {
      "text/plain": [
       "array([ 11,  12,  28,  35,  48,  71, 155], dtype=uint8)"
      ]
     },
     "execution_count": 24,
     "metadata": {},
     "output_type": "execute_result"
    }
   ],
   "source": [
    "x"
   ]
  },
  {
   "cell_type": "code",
   "execution_count": 25,
   "id": "3f564075-e03d-4506-90aa-3ddc7f3995ef",
   "metadata": {},
   "outputs": [
    {
     "data": {
      "text/plain": [
       "<function ndarray.sum>"
      ]
     },
     "execution_count": 25,
     "metadata": {},
     "output_type": "execute_result"
    }
   ],
   "source": [
    "x.sum\n"
   ]
  },
  {
   "cell_type": "code",
   "execution_count": 26,
   "id": "b311bccc-fcf4-490f-82b3-9107da2e8810",
   "metadata": {},
   "outputs": [
    {
     "data": {
      "text/plain": [
       "360"
      ]
     },
     "execution_count": 26,
     "metadata": {},
     "output_type": "execute_result"
    }
   ],
   "source": [
    "x.sum()"
   ]
  },
  {
   "cell_type": "code",
   "execution_count": 27,
   "id": "03ed5c2c-e303-4c8a-a562-05fce966e467",
   "metadata": {},
   "outputs": [],
   "source": [
    "y=np.array([56,12,35,48.23,71,11,28])"
   ]
  },
  {
   "cell_type": "code",
   "execution_count": 28,
   "id": "4c733d05-8ae8-4483-b2d1-fe63d40429e3",
   "metadata": {},
   "outputs": [
    {
     "data": {
      "text/plain": [
       "array([56.  , 12.  , 35.  , 48.23, 71.  , 11.  , 28.  ])"
      ]
     },
     "execution_count": 28,
     "metadata": {},
     "output_type": "execute_result"
    }
   ],
   "source": [
    "y"
   ]
  },
  {
   "cell_type": "code",
   "execution_count": 29,
   "id": "ec547502-d5c6-4cb1-ab7a-e5c64da848dd",
   "metadata": {},
   "outputs": [
    {
     "data": {
      "text/plain": [
       "dtype('float64')"
      ]
     },
     "execution_count": 29,
     "metadata": {},
     "output_type": "execute_result"
    }
   ],
   "source": [
    "y.dtype"
   ]
  },
  {
   "cell_type": "code",
   "execution_count": 30,
   "id": "dffdd6f9-e498-4939-941d-103ae1ccaf97",
   "metadata": {},
   "outputs": [],
   "source": [
    "z=np.array([56,12,35,48.23,71,11,True])"
   ]
  },
  {
   "cell_type": "code",
   "execution_count": 31,
   "id": "689d92f3-5de5-43a7-bc39-11826834ea50",
   "metadata": {},
   "outputs": [
    {
     "data": {
      "text/plain": [
       "array([56.  , 12.  , 35.  , 48.23, 71.  , 11.  ,  1.  ])"
      ]
     },
     "execution_count": 31,
     "metadata": {},
     "output_type": "execute_result"
    }
   ],
   "source": [
    "z"
   ]
  },
  {
   "cell_type": "code",
   "execution_count": 32,
   "id": "18137b8b-f784-405c-9bc1-2ec7700fd83c",
   "metadata": {},
   "outputs": [
    {
     "data": {
      "text/plain": [
       "array([1, 1, 1, 1, 1, 1, 1, 1, 1, 1], dtype=int16)"
      ]
     },
     "execution_count": 32,
     "metadata": {},
     "output_type": "execute_result"
    }
   ],
   "source": [
    "z=np.ones(10,dtype=np.int16)\n",
    "z"
   ]
  },
  {
   "cell_type": "code",
   "execution_count": 36,
   "id": "2ef23514-3db9-48ca-914d-b150fdb3a229",
   "metadata": {},
   "outputs": [
    {
     "data": {
      "text/plain": [
       "array([ 2,  5,  8, 11, 14, 17])"
      ]
     },
     "execution_count": 36,
     "metadata": {},
     "output_type": "execute_result"
    }
   ],
   "source": [
    "np.arange(2,20,3)"
   ]
  },
  {
   "cell_type": "code",
   "execution_count": 37,
   "id": "8d165141-be1e-496c-8df8-26f33e8edd22",
   "metadata": {},
   "outputs": [
    {
     "data": {
      "text/plain": [
       "array([0.  , 0.33, 0.66, 0.99, 1.32, 1.65, 1.98, 2.31, 2.64, 2.97, 3.3 ,\n",
       "       3.63, 3.96, 4.29, 4.62, 4.95, 5.28, 5.61, 5.94, 6.27, 6.6 , 6.93,\n",
       "       7.26, 7.59, 7.92, 8.25, 8.58, 8.91, 9.24, 9.57, 9.9 ])"
      ]
     },
     "execution_count": 37,
     "metadata": {},
     "output_type": "execute_result"
    }
   ],
   "source": [
    "np.arange(0,10,.33)"
   ]
  },
  {
   "cell_type": "code",
   "execution_count": 38,
   "id": "de764f35-0abc-462e-bf4b-76aeba54c275",
   "metadata": {},
   "outputs": [
    {
     "data": {
      "text/plain": [
       "array([ 1. ,  3.5,  6. ,  8.5, 11. ])"
      ]
     },
     "execution_count": 38,
     "metadata": {},
     "output_type": "execute_result"
    }
   ],
   "source": [
    "np.linspace(1,11,5)"
   ]
  },
  {
   "cell_type": "markdown",
   "id": "4bceffc8-b096-40c5-b2f1-eca4ee1624fc",
   "metadata": {},
   "source": [
    "#############Array Operation###############"
   ]
  },
  {
   "cell_type": "code",
   "execution_count": 39,
   "id": "05e4e240-5c1a-426d-9437-d3be5d881273",
   "metadata": {},
   "outputs": [],
   "source": [
    "num1=np.array([10,20,30,40,50,60])\n",
    "num2=np.array([15,25,35,45,55,65])"
   ]
  },
  {
   "cell_type": "code",
   "execution_count": 40,
   "id": "6813a471-302b-42ff-94f9-3d1d215d9218",
   "metadata": {},
   "outputs": [
    {
     "data": {
      "text/plain": [
       "array([20, 30, 40, 50, 60, 70])"
      ]
     },
     "execution_count": 40,
     "metadata": {},
     "output_type": "execute_result"
    }
   ],
   "source": [
    "num1+10\n"
   ]
  },
  {
   "cell_type": "code",
   "execution_count": 41,
   "id": "99a0e3f9-ec5b-4511-a2bf-8318d9747188",
   "metadata": {},
   "outputs": [
    {
     "data": {
      "text/plain": [
       "array([ 2.,  4.,  6.,  8., 10., 12.])"
      ]
     },
     "execution_count": 41,
     "metadata": {},
     "output_type": "execute_result"
    }
   ],
   "source": [
    "num1/5"
   ]
  },
  {
   "cell_type": "code",
   "execution_count": 42,
   "id": "c6fb508e-51be-4432-a584-22a486cdf2e6",
   "metadata": {},
   "outputs": [
    {
     "data": {
      "text/plain": [
       "array([ 50, 100, 150, 200, 250, 300])"
      ]
     },
     "execution_count": 42,
     "metadata": {},
     "output_type": "execute_result"
    }
   ],
   "source": [
    "num1*5"
   ]
  },
  {
   "cell_type": "code",
   "execution_count": 43,
   "id": "830fa95b-a9bf-4802-9114-fabb9c10888f",
   "metadata": {},
   "outputs": [
    {
     "data": {
      "text/plain": [
       "[10, 20, 30, 40, 50, 60, 10, 20, 30, 40, 50, 60, 10, 20, 30, 40, 50, 60]"
      ]
     },
     "execution_count": 43,
     "metadata": {},
     "output_type": "execute_result"
    }
   ],
   "source": [
    "[10,20,30,40,50,60]*3"
   ]
  },
  {
   "cell_type": "code",
   "execution_count": 45,
   "id": "3e197028-2d09-4cdf-898f-6ca91352cd06",
   "metadata": {},
   "outputs": [
    {
     "data": {
      "text/plain": [
       "[10,\n",
       " 20,\n",
       " 30,\n",
       " 40,\n",
       " 50,\n",
       " 60,\n",
       " 10,\n",
       " 20,\n",
       " 30,\n",
       " 40,\n",
       " 50,\n",
       " 60,\n",
       " 10,\n",
       " 20,\n",
       " 30,\n",
       " 40,\n",
       " 50,\n",
       " 60,\n",
       " 10,\n",
       " 20,\n",
       " 30,\n",
       " 40,\n",
       " 50,\n",
       " 60,\n",
       " 10,\n",
       " 20,\n",
       " 30,\n",
       " 40,\n",
       " 50,\n",
       " 60,\n",
       " 10,\n",
       " 20,\n",
       " 30,\n",
       " 40,\n",
       " 50,\n",
       " 60,\n",
       " 10,\n",
       " 20,\n",
       " 30,\n",
       " 40,\n",
       " 50,\n",
       " 60,\n",
       " 10,\n",
       " 20,\n",
       " 30,\n",
       " 40,\n",
       " 50,\n",
       " 60,\n",
       " 10,\n",
       " 20,\n",
       " 30,\n",
       " 40,\n",
       " 50,\n",
       " 60,\n",
       " 10,\n",
       " 20,\n",
       " 30,\n",
       " 40,\n",
       " 50,\n",
       " 60]"
      ]
     },
     "execution_count": 45,
     "metadata": {},
     "output_type": "execute_result"
    }
   ],
   "source": [
    "[10,20,30,40,50,60]*10"
   ]
  },
  {
   "cell_type": "code",
   "execution_count": 46,
   "id": "c4680aec-46b9-4a28-b758-29f41eccf40c",
   "metadata": {},
   "outputs": [
    {
     "data": {
      "text/plain": [
       "array([ 25,  45,  65,  85, 105, 125])"
      ]
     },
     "execution_count": 46,
     "metadata": {},
     "output_type": "execute_result"
    }
   ],
   "source": [
    "num1+num2"
   ]
  },
  {
   "cell_type": "code",
   "execution_count": 47,
   "id": "df5c8cb3-00d5-4fae-bc26-d265bb123482",
   "metadata": {},
   "outputs": [
    {
     "data": {
      "text/plain": [
       "array([-5, -5, -5, -5, -5, -5])"
      ]
     },
     "execution_count": 47,
     "metadata": {},
     "output_type": "execute_result"
    }
   ],
   "source": [
    "num1-num2"
   ]
  },
  {
   "cell_type": "code",
   "execution_count": 49,
   "id": "11197ff5-c6e1-4803-8bea-c6f1b5a308e1",
   "metadata": {},
   "outputs": [],
   "source": [
    "M=np.array([[1,2,3],[4,5,6],[7,8,9]])"
   ]
  },
  {
   "cell_type": "code",
   "execution_count": 50,
   "id": "e8eefcab-4795-4c60-81db-561233a9a435",
   "metadata": {},
   "outputs": [
    {
     "data": {
      "text/plain": [
       "array([[1, 2, 3],\n",
       "       [4, 5, 6],\n",
       "       [7, 8, 9]])"
      ]
     },
     "execution_count": 50,
     "metadata": {},
     "output_type": "execute_result"
    }
   ],
   "source": [
    "M"
   ]
  },
  {
   "cell_type": "code",
   "execution_count": 51,
   "id": "7c9b811c-b751-47dd-8bd8-c42d9a34369e",
   "metadata": {},
   "outputs": [
    {
     "data": {
      "text/plain": [
       "2"
      ]
     },
     "execution_count": 51,
     "metadata": {},
     "output_type": "execute_result"
    }
   ],
   "source": [
    "M.ndim"
   ]
  },
  {
   "cell_type": "code",
   "execution_count": 52,
   "id": "84a371d9-34bd-4caa-9a1b-cd62648dbc25",
   "metadata": {},
   "outputs": [
    {
     "data": {
      "text/plain": [
       "9"
      ]
     },
     "execution_count": 52,
     "metadata": {},
     "output_type": "execute_result"
    }
   ],
   "source": [
    "M.size"
   ]
  },
  {
   "cell_type": "code",
   "execution_count": 53,
   "id": "f2313399-8675-41d3-851f-245d0bc630ad",
   "metadata": {},
   "outputs": [
    {
     "data": {
      "text/plain": [
       "(3, 3)"
      ]
     },
     "execution_count": 53,
     "metadata": {},
     "output_type": "execute_result"
    }
   ],
   "source": [
    "M.shape"
   ]
  },
  {
   "cell_type": "code",
   "execution_count": 58,
   "id": "3affd243-3375-4454-b6d8-18778e96fa28",
   "metadata": {},
   "outputs": [
    {
     "data": {
      "text/plain": [
       "6"
      ]
     },
     "execution_count": 58,
     "metadata": {},
     "output_type": "execute_result"
    }
   ],
   "source": [
    "M[1,2]"
   ]
  },
  {
   "cell_type": "code",
   "execution_count": 59,
   "id": "c559fc24-53ae-4631-bd54-0eb16b256c3f",
   "metadata": {},
   "outputs": [],
   "source": [
    "M1=M.reshape(3,3)"
   ]
  },
  {
   "cell_type": "code",
   "execution_count": 62,
   "id": "b259bbf6-689e-46d9-8482-33f81869ba39",
   "metadata": {},
   "outputs": [
    {
     "data": {
      "text/plain": [
       "array([[1, 2, 3, 4, 5, 6],\n",
       "       [7, 8, 9, 7, 8, 9]])"
      ]
     },
     "execution_count": 62,
     "metadata": {},
     "output_type": "execute_result"
    }
   ],
   "source": [
    "M.reshape(2,-1)\n"
   ]
  },
  {
   "cell_type": "code",
   "execution_count": 61,
   "id": "7681f199-cc9e-4c6e-b4f5-a09ce81aabe6",
   "metadata": {},
   "outputs": [],
   "source": [
    "M=np.array([[1,2,3],[4,5,6],[7,8,9],[7,8,9]])"
   ]
  },
  {
   "cell_type": "code",
   "execution_count": 63,
   "id": "3ff773df-2cda-4b31-80fc-60cb4b93592f",
   "metadata": {},
   "outputs": [
    {
     "data": {
      "text/plain": [
       "array([1, 2, 3, 4, 5, 6, 7, 8, 9, 7, 8, 9])"
      ]
     },
     "execution_count": 63,
     "metadata": {},
     "output_type": "execute_result"
    }
   ],
   "source": [
    "M.reshape(-1)"
   ]
  },
  {
   "cell_type": "code",
   "execution_count": 64,
   "id": "2116125e-e04a-4b45-94d7-3869a70d42ea",
   "metadata": {},
   "outputs": [
    {
     "data": {
      "text/plain": [
       "array([1, 2, 3, 4, 5, 6, 7, 8, 9, 7, 8, 9])"
      ]
     },
     "execution_count": 64,
     "metadata": {},
     "output_type": "execute_result"
    }
   ],
   "source": [
    "M.flatten()"
   ]
  },
  {
   "cell_type": "code",
   "execution_count": 65,
   "id": "5d90c0d0-5796-41be-97f8-4c0d680a1196",
   "metadata": {},
   "outputs": [
    {
     "data": {
      "text/plain": [
       "array([[1, 4, 7, 7],\n",
       "       [2, 5, 8, 8],\n",
       "       [3, 6, 9, 9]])"
      ]
     },
     "execution_count": 65,
     "metadata": {},
     "output_type": "execute_result"
    }
   ],
   "source": [
    "M.T"
   ]
  },
  {
   "cell_type": "code",
   "execution_count": 66,
   "id": "74401008-658d-4de4-be6c-a2eeb1e6a4cb",
   "metadata": {},
   "outputs": [
    {
     "data": {
      "text/plain": [
       "1"
      ]
     },
     "execution_count": 66,
     "metadata": {},
     "output_type": "execute_result"
    }
   ],
   "source": [
    "M.min()\n"
   ]
  },
  {
   "cell_type": "code",
   "execution_count": 67,
   "id": "34d50dab-9415-4915-b009-6c7f0e4fa530",
   "metadata": {},
   "outputs": [
    {
     "data": {
      "text/plain": [
       "array([1, 4, 7, 7])"
      ]
     },
     "execution_count": 67,
     "metadata": {},
     "output_type": "execute_result"
    }
   ],
   "source": [
    "M.min(axis=1)"
   ]
  },
  {
   "cell_type": "code",
   "execution_count": 68,
   "id": "4c2d61a2-6557-4e9d-850f-bb38d44ea916",
   "metadata": {},
   "outputs": [
    {
     "data": {
      "text/plain": [
       "array([1, 2, 3])"
      ]
     },
     "execution_count": 68,
     "metadata": {},
     "output_type": "execute_result"
    }
   ],
   "source": [
    "M.min(axis=0)"
   ]
  },
  {
   "cell_type": "code",
   "execution_count": 69,
   "id": "d50b0a9a-99c6-4b75-b151-ecd88004c18f",
   "metadata": {},
   "outputs": [
    {
     "data": {
      "text/plain": [
       "array([19, 23, 27])"
      ]
     },
     "execution_count": 69,
     "metadata": {},
     "output_type": "execute_result"
    }
   ],
   "source": [
    "M.sum(axis=0)"
   ]
  },
  {
   "cell_type": "code",
   "execution_count": 70,
   "id": "27b0a859-90bc-4430-b41d-0f3afdc4ec2c",
   "metadata": {},
   "outputs": [
    {
     "data": {
      "text/plain": [
       "array([ 6, 15, 24, 24])"
      ]
     },
     "execution_count": 70,
     "metadata": {},
     "output_type": "execute_result"
    }
   ],
   "source": [
    "M.sum(axis=1)"
   ]
  },
  {
   "cell_type": "code",
   "execution_count": 71,
   "id": "b55e762e-3df8-44ba-aa53-81ee44dd5340",
   "metadata": {},
   "outputs": [
    {
     "data": {
      "text/plain": [
       "array([56.  , 12.  , 35.  , 48.23, 71.  , 11.  , 28.  ])"
      ]
     },
     "execution_count": 71,
     "metadata": {},
     "output_type": "execute_result"
    }
   ],
   "source": [
    "y"
   ]
  },
  {
   "cell_type": "code",
   "execution_count": 72,
   "id": "4444b5f5-e06a-4fb7-a72a-6dc2c2d1b2f6",
   "metadata": {},
   "outputs": [],
   "source": [
    "q=y"
   ]
  },
  {
   "cell_type": "code",
   "execution_count": 73,
   "id": "82a09c84-6b7f-4db4-8c5c-7ebbcedfbe8c",
   "metadata": {},
   "outputs": [
    {
     "data": {
      "text/plain": [
       "array([56.  , 12.  , 35.  , 48.23, 71.  , 11.  , 28.  ])"
      ]
     },
     "execution_count": 73,
     "metadata": {},
     "output_type": "execute_result"
    }
   ],
   "source": [
    "q"
   ]
  },
  {
   "cell_type": "code",
   "execution_count": 74,
   "id": "891da377-a02e-472d-a953-2f8ae8327dee",
   "metadata": {},
   "outputs": [],
   "source": [
    "q[0]=34"
   ]
  },
  {
   "cell_type": "code",
   "execution_count": 75,
   "id": "3038f86e-06e2-4a9f-a11a-aac5408f83aa",
   "metadata": {},
   "outputs": [
    {
     "data": {
      "text/plain": [
       "array([34.  , 12.  , 35.  , 48.23, 71.  , 11.  , 28.  ])"
      ]
     },
     "execution_count": 75,
     "metadata": {},
     "output_type": "execute_result"
    }
   ],
   "source": [
    "y"
   ]
  },
  {
   "cell_type": "code",
   "execution_count": 76,
   "id": "481aec16-3277-4a0b-a815-d470f88bfc6d",
   "metadata": {},
   "outputs": [],
   "source": [
    "q=y.copy()"
   ]
  },
  {
   "cell_type": "code",
   "execution_count": 77,
   "id": "e77a3f33-cf90-449b-8570-182e6e236e70",
   "metadata": {},
   "outputs": [],
   "source": [
    "q[0]=45"
   ]
  },
  {
   "cell_type": "code",
   "execution_count": 78,
   "id": "968f127c-d6ce-422f-b6d4-8d9a3b42345b",
   "metadata": {},
   "outputs": [
    {
     "data": {
      "text/plain": [
       "array([34.  , 12.  , 35.  , 48.23, 71.  , 11.  , 28.  ])"
      ]
     },
     "execution_count": 78,
     "metadata": {},
     "output_type": "execute_result"
    }
   ],
   "source": [
    "y\n"
   ]
  },
  {
   "cell_type": "code",
   "execution_count": null,
   "id": "b9c65a0c-a618-4036-afc5-d016cbb7d98d",
   "metadata": {},
   "outputs": [],
   "source": []
  }
 ],
 "metadata": {
  "kernelspec": {
   "display_name": "Python 3 (ipykernel)",
   "language": "python",
   "name": "python3"
  },
  "language_info": {
   "codemirror_mode": {
    "name": "ipython",
    "version": 3
   },
   "file_extension": ".py",
   "mimetype": "text/x-python",
   "name": "python",
   "nbconvert_exporter": "python",
   "pygments_lexer": "ipython3",
   "version": "3.11.7"
  }
 },
 "nbformat": 4,
 "nbformat_minor": 5
}
